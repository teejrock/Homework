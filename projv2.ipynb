{
 "cells": [
  {
   "cell_type": "code",
   "execution_count": 16,
   "metadata": {},
   "outputs": [
    {
     "data": {
      "text/plain": [
       "yearID      0\n",
       "stint       0\n",
       "G           0\n",
       "AB          0\n",
       "R           0\n",
       "H           0\n",
       "2B          0\n",
       "3B          0\n",
       "HR          0\n",
       "RBI         0\n",
       "SB          0\n",
       "CS          0\n",
       "BB          0\n",
       "SO          0\n",
       "IBB         0\n",
       "HBP         0\n",
       "SH          0\n",
       "SF          0\n",
       "GIDP        0\n",
       "Salaries    0\n",
       "dtype: int64"
      ]
     },
     "execution_count": 16,
     "metadata": {},
     "output_type": "execute_result"
    }
   ],
   "source": [
    "from sklearn.ensemble import RandomForestClassifier\n",
    "from sklearn.model_selection import train_test_split, GridSearchCV\n",
    "from sklearn.metrics import f1_score, classification_report\n",
    "from collections import Counter\n",
    "import numpy as np\n",
    "import pandas as pd\n",
    "%matplotlib inline\n",
    "df = pd.read_csv(\"Batting.csv\")\n",
    "df.head\n",
    "df = df.dropna()\n",
    "df.isnull().sum()"
   ]
  },
  {
   "cell_type": "code",
   "execution_count": 3,
   "metadata": {},
   "outputs": [],
   "source": [
    "#Renaming:\n",
    "columns = {\n",
    "    'G': 'Games Played',\n",
    "    'AB': 'At-Bat',\n",
    "    'R': 'Run',\n",
    "    'H': 'Hit',\n",
    "    '2B': 'Double',\n",
    "    '3B': 'Triple',\n",
    "    'HR': 'Home_Run',\n",
    "    'RBI': 'Runs Batted In',\n",
    "    'SB': 'Stolen Base',\n",
    "    'CS': 'Caught Stealing',\n",
    "    'BB': 'Walk',\n",
    "    'SO': 'Strikeout',\n",
    "    'IBB': 'Intentional Walk',\n",
    "    'HBP': 'Hit By Pitch',\n",
    "    'SH': 'Sacrifice Bunt',\n",
    "    'SF': 'Sacrifice Fly',\n",
    "    'GIDP': 'Ground Into Double Play',\n",
    "    'Salaries': 'Target' #Rename target variable!\n",
    "}\n",
    "\n",
    "df.rename(columns=columns,inplace=True)"
   ]
  },
  {
   "cell_type": "code",
   "execution_count": 4,
   "metadata": {},
   "outputs": [],
   "source": [
    "#df = df[df.Salaries !=0]\n",
    "#df.describe()"
   ]
  },
  {
   "cell_type": "code",
   "execution_count": 5,
   "metadata": {},
   "outputs": [
    {
     "name": "stdout",
     "output_type": "stream",
     "text": [
      "[0.00793445 0.00870027 0.31397034 0.1182585  0.04751957 0.06212\n",
      " 0.05805949 0.         0.00718036 0.03135568 0.         0.0023376\n",
      " 0.07703915 0.17882963 0.00671428 0.00505047 0.02774643 0.0233305\n",
      " 0.02385327]\n"
     ]
    },
    {
     "name": "stderr",
     "output_type": "stream",
     "text": [
      "C:\\Users\\13852\\Anaconda3\\lib\\site-packages\\sklearn\\metrics\\classification.py:1145: UndefinedMetricWarning: Recall and F-score are ill-defined and being set to 0.0 in labels with no true samples.\n",
      "  'recall', 'true', average, warn_for)\n"
     ]
    }
   ],
   "source": [
    "#AB\tR\tH\t2B\t3B\tHR\tRBI\tSB\tCS\tBB\tSO\tIBB\tHBP\tSH\tSF\tGIDP\n",
    "\n",
    "X = df.drop('Target', axis=1)\n",
    "y = df.Target\n",
    "X_train, X_test, y_train, y_test = train_test_split(X, y, test_size=0.20, random_state=42)\n",
    "\n",
    "clf = RandomForestClassifier(n_estimators=100, max_depth=2,\n",
    "                             random_state=0)\n",
    "clf.fit(X_train, y_train)\n",
    "\n",
    "print(clf.feature_importances_)\n",
    "predictions = clf.predict(X_test)\n",
    "classification_report(predictions,y_test)\n",
    "\n",
    "\n",
    "\n",
    "X_train, X_test, y_train, y_test = train_test_split(df.Home_Run, df.Target, test_size=0.20, random_state=42)\n",
    "# x = df except for salaries\n",
    "# y = salaries\n",
    "\n",
    "# line these up with columns feature importances ( 3rd column is most important: G,AB,BB)\n",
    "# G = Games played; AB = At Bats; BB = Base on Balls\n",
    "# With yearID: [0.00793445 0.00870027 0.31397034 0.1182585  0.04751957 0.06212\n",
    "# 0.05805949 0.         0.00718036 0.03135568 0.         0.0023376\n",
    "# 0.07703915 0.17882963 0.00671428 0.00505047 0.02774643 0.0233305\n",
    "# 0.02385327]\n",
    "\n",
    "# new RF (important ones SB = stolen base; Sacrifice Bunt)"
   ]
  },
  {
   "cell_type": "code",
   "execution_count": 12,
   "metadata": {},
   "outputs": [],
   "source": [
    "# Feature Scaling\n",
    "from sklearn.preprocessing import StandardScaler\n",
    "\n",
    "#sc = StandardScaler()  \n",
    "#X_train = sc.fit_transform(X_train)  \n",
    "#X_test = sc.transform(X_test)  "
   ]
  },
  {
   "cell_type": "code",
   "execution_count": 14,
   "metadata": {},
   "outputs": [],
   "source": [
    "#from sklearn.ensemble import RandomForestRegressor\n",
    "\n",
    "#regressor = RandomForestRegressor(n_estimators=20, random_state=0)  \n",
    "#regressor.fit(X_train, y_train)  \n",
    "#y_pred = regressor.predict(X_test)  "
   ]
  },
  {
   "cell_type": "code",
   "execution_count": 13,
   "metadata": {},
   "outputs": [],
   "source": [
    "#from sklearn.metrics import classification_report, confusion_matrix, accuracy_score\n",
    "\n",
    "#print(confusion_matrix(y_test,y_pred))  \n",
    "#print(classification_report(y_test,y_pred))  \n",
    "#print(accuracy_score(y_test, y_pred))  "
   ]
  },
  {
   "cell_type": "code",
   "execution_count": null,
   "metadata": {},
   "outputs": [],
   "source": []
  }
 ],
 "metadata": {
  "kernelspec": {
   "display_name": "Python 3",
   "language": "python",
   "name": "python3"
  },
  "language_info": {
   "codemirror_mode": {
    "name": "ipython",
    "version": 3
   },
   "file_extension": ".py",
   "mimetype": "text/x-python",
   "name": "python",
   "nbconvert_exporter": "python",
   "pygments_lexer": "ipython3",
   "version": "3.7.1"
  }
 },
 "nbformat": 4,
 "nbformat_minor": 2
}
